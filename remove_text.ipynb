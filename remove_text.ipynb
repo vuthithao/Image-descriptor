{
 "cells": [
  {
   "cell_type": "code",
   "execution_count": 40,
   "metadata": {},
   "outputs": [],
   "source": [
    "import os \n",
    "os.environ[\"GOOGLE_APPLICATION_CREDENTIALS\"] = \"/home/topica/Downloads/secret.json\"\n",
    "os.environ[\"GOOGLE_APPLICATION_CREDENTIALS\"] = \"1\""
   ]
  },
  {
   "cell_type": "code",
   "execution_count": null,
   "metadata": {},
   "outputs": [],
   "source": []
  },
  {
   "cell_type": "code",
   "execution_count": 18,
   "metadata": {},
   "outputs": [],
   "source": [
    "vertices = [(73,637),(132,637),(132,623),(73,623),(586,637),(625,637),(625,621),(586,621),(103,589),(966,585),(966,562),(103, 566)]"
   ]
  },
  {
   "cell_type": "code",
   "execution_count": 19,
   "metadata": {},
   "outputs": [],
   "source": [
    "vertices_true = []"
   ]
  },
  {
   "cell_type": "code",
   "execution_count": 20,
   "metadata": {},
   "outputs": [],
   "source": [
    "import cv2\n",
    "import numpy as np\n",
    "imagepath = '/home/topica/Desktop/test_remove_text_2.jpg'\n",
    "img = cv2.imread(imagepath)\n",
    "\n",
    "for i in range(len(vertices)):\n",
    "    a = (img.shape[0] - vertices[i][1])\n",
    "    b = (vertices[i][0],a)\n",
    "    vertices_true.append(b)"
   ]
  },
  {
   "cell_type": "code",
   "execution_count": 21,
   "metadata": {},
   "outputs": [],
   "source": [
    "boxs =[]\n",
    "\n",
    "for i in range(len(vertices_true)):\n",
    "    box = []\n",
    "    if i%4 == 0:\n",
    "        box = [vertices_true[i], vertices_true[i+1], vertices_true[i+2], vertices_true[i+3]]\n",
    "        boxs.append(box)"
   ]
  },
  {
   "cell_type": "code",
   "execution_count": 22,
   "metadata": {},
   "outputs": [
    {
     "data": {
      "text/plain": [
       "[[(73, 119), (132, 119), (132, 133), (73, 133)],\n",
       " [(586, 119), (625, 119), (625, 135), (586, 135)],\n",
       " [(103, 167), (966, 171), (966, 194), (103, 190)]]"
      ]
     },
     "execution_count": 22,
     "metadata": {},
     "output_type": "execute_result"
    }
   ],
   "source": [
    "boxs"
   ]
  },
  {
   "cell_type": "code",
   "execution_count": 23,
   "metadata": {},
   "outputs": [
    {
     "name": "stdout",
     "output_type": "stream",
     "text": [
      "[[[73, 119], [132, 119], [132, 133], [73, 133]], [[586, 119], [625, 119], [625, 135], [586, 135]], [[103, 167], [966, 171], [966, 194], [103, 190]]]\n"
     ]
    }
   ],
   "source": [
    "res = []\n",
    "for box in boxs:\n",
    "    cur = []\n",
    "    cur.append([box[0][0],box[0][1]])\n",
    "    cur.append([box[1][0],box[1][1]])\n",
    "    cur.append([box[2][0],box[2][1]])\n",
    "    cur.append([box[3][0],box[3][1]])\n",
    "    res.append(cur)\n",
    "print(res)"
   ]
  },
  {
   "cell_type": "code",
   "execution_count": 24,
   "metadata": {},
   "outputs": [],
   "source": [
    "boxs = np.asarray(boxs)"
   ]
  },
  {
   "cell_type": "code",
   "execution_count": null,
   "metadata": {},
   "outputs": [],
   "source": [
    "boxs = []\n",
    "for i in range(len(vertices_true) - 1):\n",
    "    box = []\n",
    "    \n",
    "    if i%4 == 0:\n",
    "        min_x = min(vertices_true[i][0], vertices_true[i+1][0], vertices_true[i+2][0], vertices_true[i+3][0])\n",
    "        min_y = min(vertices_true[i][1], vertices_true[i+1][1], vertices_true[i+2][1], vertices_true[i+3][1])\n",
    "        max_x = max(vertices_true[i][0], vertices_true[i+1][0], vertices_true[i+2][0], vertices_true[i+3][0])\n",
    "        max_y = max(vertices_true[i][1], vertices_true[i+1][1], vertices_true[i+2][1], vertices_true[i+3][1])\n",
    "        box = [min_x, min_y, max_x, max_y]\n",
    "        boxs.append(box)"
   ]
  },
  {
   "cell_type": "code",
   "execution_count": 25,
   "metadata": {},
   "outputs": [
    {
     "data": {
      "text/plain": [
       "array([[[ 73, 119],\n",
       "        [132, 119],\n",
       "        [132, 133],\n",
       "        [ 73, 133]],\n",
       "\n",
       "       [[586, 119],\n",
       "        [625, 119],\n",
       "        [625, 135],\n",
       "        [586, 135]],\n",
       "\n",
       "       [[103, 167],\n",
       "        [966, 171],\n",
       "        [966, 194],\n",
       "        [103, 190]]])"
      ]
     },
     "execution_count": 25,
     "metadata": {},
     "output_type": "execute_result"
    }
   ],
   "source": [
    "boxs"
   ]
  },
  {
   "cell_type": "code",
   "execution_count": 29,
   "metadata": {},
   "outputs": [],
   "source": [
    "a = 0\n",
    "average = img.mean(axis=0).mean(axis=0)\n",
    "white = [255,255,255]\n",
    "cv2.drawContours(img, boxs, -1, average, -1)\n",
    "cv2.imshow('image',img)\n",
    "cv2.waitKey(0)\n",
    "cv2.destroyAllWindows()"
   ]
  },
  {
   "cell_type": "code",
   "execution_count": null,
   "metadata": {},
   "outputs": [],
   "source": [
    "img.shape"
   ]
  },
  {
   "cell_type": "code",
   "execution_count": 36,
   "metadata": {},
   "outputs": [
    {
     "name": "stdout",
     "output_type": "stream",
     "text": [
      "0.0010839212228101118\n",
      "0.000818846056941295\n",
      "0.02604691567985219\n"
     ]
    }
   ],
   "source": [
    "for box in boxs:\n",
    "    box = np.array([box])\n",
    "    area = cv2.contourArea(box)\n",
    "    img_area = img.shape[0]*img.shape[1]\n",
    "    print(area/img_area)"
   ]
  },
  {
   "cell_type": "code",
   "execution_count": null,
   "metadata": {},
   "outputs": [],
   "source": []
  }
 ],
 "metadata": {
  "kernelspec": {
   "display_name": "Python 3",
   "language": "python",
   "name": "python3"
  },
  "language_info": {
   "codemirror_mode": {
    "name": "ipython",
    "version": 3
   },
   "file_extension": ".py",
   "mimetype": "text/x-python",
   "name": "python",
   "nbconvert_exporter": "python",
   "pygments_lexer": "ipython3",
   "version": "3.6.7"
  }
 },
 "nbformat": 4,
 "nbformat_minor": 2
}
