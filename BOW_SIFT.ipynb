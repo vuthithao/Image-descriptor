{
 "cells": [
  {
   "cell_type": "code",
   "execution_count": 32,
   "metadata": {},
   "outputs": [
    {
     "ename": "TypeError",
     "evalue": "'contrastThreshold' is an invalid keyword argument for this function",
     "output_type": "error",
     "traceback": [
      "\u001b[0;31m---------------------------------------------------------------------------\u001b[0m",
      "\u001b[0;31mTypeError\u001b[0m                                 Traceback (most recent call last)",
      "\u001b[0;32m<ipython-input-32-9aa5021b0531>\u001b[0m in \u001b[0;36m<module>\u001b[0;34m\u001b[0m\n\u001b[1;32m      4\u001b[0m \u001b[0;32mfrom\u001b[0m \u001b[0mscipy\u001b[0m\u001b[0;34m.\u001b[0m\u001b[0mspatial\u001b[0m \u001b[0;32mimport\u001b[0m \u001b[0mdistance\u001b[0m\u001b[0;34m\u001b[0m\u001b[0;34m\u001b[0m\u001b[0m\n\u001b[1;32m      5\u001b[0m \u001b[0;34m\u001b[0m\u001b[0m\n\u001b[0;32m----> 6\u001b[0;31m \u001b[0msift\u001b[0m \u001b[0;34m=\u001b[0m \u001b[0mcv2\u001b[0m\u001b[0;34m.\u001b[0m\u001b[0mxfeatures2d\u001b[0m\u001b[0;34m.\u001b[0m\u001b[0mSURF_create\u001b[0m\u001b[0;34m(\u001b[0m\u001b[0;36m100\u001b[0m\u001b[0;34m,\u001b[0m \u001b[0mcontrastThreshold\u001b[0m\u001b[0;34m=\u001b[0m\u001b[0;36m0.005\u001b[0m\u001b[0;34m,\u001b[0m \u001b[0medgeThreshold\u001b[0m\u001b[0;34m=\u001b[0m\u001b[0;36m4\u001b[0m\u001b[0;34m,\u001b[0m \u001b[0msigma\u001b[0m\u001b[0;34m=\u001b[0m\u001b[0;36m1.4\u001b[0m\u001b[0;34m)\u001b[0m\u001b[0;34m\u001b[0m\u001b[0;34m\u001b[0m\u001b[0m\n\u001b[0m\u001b[1;32m      7\u001b[0m \u001b[0;34m\u001b[0m\u001b[0m\n\u001b[1;32m      8\u001b[0m \u001b[0mdictionarySize\u001b[0m \u001b[0;34m=\u001b[0m \u001b[0;36m15\u001b[0m\u001b[0;34m\u001b[0m\u001b[0;34m\u001b[0m\u001b[0m\n",
      "\u001b[0;31mTypeError\u001b[0m: 'contrastThreshold' is an invalid keyword argument for this function"
     ]
    }
   ],
   "source": [
    "import cv2\n",
    "import os\n",
    "import numpy as np\n",
    "from scipy.spatial import distance\n",
    "\n",
    "sift = cv2.xfeatures2d.SIFT_create(100, contrastThreshold=0.005, edgeThreshold=4, sigma=1.4)\n",
    "\n",
    "dictionarySize = 15\n",
    "\n",
    "BOW = cv2.BOWKMeansTrainer(dictionarySize)\n",
    "\n",
    "imagepath = '/home/topica/Downloads/img/transfer'\n",
    "list_image =  os.listdir(imagepath)\n",
    "\n",
    "for p in list_image:\n",
    "    image = os.path.join(imagepath, p)\n",
    "    gray = cv2.imread(image,0)\n",
    "    kp, dsc= sift.detectAndCompute(gray, None)\n",
    "    BOW.add(dsc)\n",
    "\n",
    "#dictionary created\n",
    "dictionary = BOW.cluster()\n",
    "\n",
    "\n",
    "\n",
    "FLANN_INDEX_KDTREE = 0\n",
    "index_params = dict(algorithm=FLANN_INDEX_KDTREE, trees=5)\n",
    "search_params = dict(checks=50)   # or pass empty dictionary\n",
    "flann = cv2.FlannBasedMatcher(index_params, search_params)\n",
    "sift2 = cv2.xfeatures2d.SIFT_create()\n",
    "bowDiction = cv2.BOWImgDescriptorExtractor(sift2, cv2.BFMatcher(cv2.NORM_L2))\n",
    "bowDiction.setVocabulary(dictionary)\n",
    "print (\"bow dictionary\", np.shape(dictionary))\n",
    "\n",
    "#returns descriptor of image at pth\n",
    "def feature_extract(pth):\n",
    "    gray = cv2.imread(pth,0)\n",
    "    return bowDiction.compute(gray, sift.detect(gray))\n",
    "\n",
    "\n",
    "desc1 = feature_extract('/home/topica/Downloads/img/transfer/4_gray.png')\n",
    "\n",
    "result = []\n",
    "img = []\n",
    "for i in range(len(list_image)):\n",
    "    desc2 = feature_extract(os.path.join(imagepath, list_image[i]))\n",
    "    dst = distance.euclidean(desc1, desc2)\n",
    "    result.append(dst)"
   ]
  },
  {
   "cell_type": "code",
   "execution_count": 30,
   "metadata": {},
   "outputs": [],
   "source": [
    "index = sorted(range(len(result)), key=lambda k: result[k])"
   ]
  },
  {
   "cell_type": "code",
   "execution_count": 31,
   "metadata": {},
   "outputs": [
    {
     "name": "stdout",
     "output_type": "stream",
     "text": [
      "4_gray.png\n",
      "0.0\n",
      "1_gray.png\n",
      "0.09000294655561447\n",
      "55_gray.png\n",
      "0.11290968209505081\n",
      "bai-3-btap_1_gray.jpg\n",
      "0.12426774948835373\n",
      "bai-23-btap_gray.jpg\n",
      "0.18536564707756042\n",
      "bai-22-btap_gray.jpg\n",
      "0.18813909590244293\n",
      "hd1-cd1_gray.jpg\n",
      "0.19358550012111664\n",
      "bai-72-btap_gray.jpg\n",
      "0.19605444371700287\n",
      "bai-5-hh_gray.jpg\n",
      "0.2223220318555832\n",
      "bai-4-hh_gray.jpg\n",
      "0.24370308220386505\n",
      "hd2-cd1_gray.jpg\n",
      "0.2442476600408554\n",
      "3_gray.png\n",
      "0.2446691244840622\n",
      "44_gray.png\n",
      "0.2479003518819809\n",
      "bai-72-hh_gray.jpg\n",
      "0.27661213278770447\n",
      "bai-42-hh_gray.jpg\n",
      "0.2799384891986847\n",
      "thu-tai-ban-t902_gray.jpg\n",
      "0.28999653458595276\n",
      "bai-6-btap_1_gray.jpg\n",
      "0.29307636618614197\n",
      "hd3-cd1_gray.jpg\n",
      "0.2969527542591095\n",
      "bai-82-hh_gray.jpg\n",
      "0.3136410117149353\n",
      "bai-8-hh_gray.jpg\n",
      "0.31719347834587097\n",
      "bai-52-hh_gray.jpg\n",
      "0.3188624083995819\n",
      "33_gray.png\n",
      "0.31921547651290894\n",
      "thu-tai-ban-t99_gray.jpg\n",
      "0.3201543688774109\n",
      "2_gray.png\n",
      "0.32950615882873535\n",
      "hd3-cd3_gray.jpg\n",
      "0.33456656336784363\n",
      "thu-tai-ban-t90_gray.jpg\n",
      "0.3466235399246216\n",
      "hd5-cd4_gray.jpg\n",
      "0.34931641817092896\n",
      "1_gray.jpg\n",
      "0.37387287616729736\n",
      "thu-tai-ban-t116_gray.jpg\n",
      "0.37564948201179504\n",
      "hd2-cd4_gray.jpg\n",
      "0.3906160891056061\n",
      "bai-2-btap_1_gray.jpg\n",
      "0.4129970371723175\n",
      "bai-7-hh_gray.jpg\n",
      "0.42734891176223755\n",
      "bai-7-btap_1_gray.jpg\n",
      "0.4311063885688782\n",
      "thu-tai-ban-t1162_gray.jpg\n",
      "0.44113025069236755\n",
      "hd1-cd4_gray.jpg\n",
      "0.4572508633136749\n"
     ]
    }
   ],
   "source": [
    "for i in range(len(index)):\n",
    "    print(list_image[index[i]])\n",
    "    print(result[index[i]])"
   ]
  },
  {
   "cell_type": "code",
   "execution_count": null,
   "metadata": {},
   "outputs": [],
   "source": []
  }
 ],
 "metadata": {
  "kernelspec": {
   "display_name": "Python 3",
   "language": "python",
   "name": "python3"
  },
  "language_info": {
   "codemirror_mode": {
    "name": "ipython",
    "version": 3
   },
   "file_extension": ".py",
   "mimetype": "text/x-python",
   "name": "python",
   "nbconvert_exporter": "python",
   "pygments_lexer": "ipython3",
   "version": "3.6.7"
  }
 },
 "nbformat": 4,
 "nbformat_minor": 2
}
