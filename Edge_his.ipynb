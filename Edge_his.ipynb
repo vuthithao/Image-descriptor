{
 "cells": [
  {
   "cell_type": "code",
   "execution_count": 1,
   "metadata": {},
   "outputs": [],
   "source": [
    "import cv2\n",
    "import numpy as np\n",
    "import math\n",
    "from EdgeHistogramComputer import EdgeHistogramComputer\n",
    "from scipy.spatial import distance as dist\n",
    "\n",
    "computer = EdgeHistogramComputer(2,2)"
   ]
  },
  {
   "cell_type": "code",
   "execution_count": 2,
   "metadata": {},
   "outputs": [],
   "source": [
    "def edge_his_sim(path_a, path_b):\n",
    "#     SCIPY_METHODS = (\n",
    "#     (\"Euclidean\", dist.euclidean),\n",
    "#     (\"Manhattan\", dist.cityblock),\n",
    "#     (\"Chebysev\", dist.chebyshev))\n",
    "    img_a = cv2.imread(path_a)\n",
    "    img_b = cv2.imread(path_b)\n",
    "    d = dist.chebyshev(computer.compute(img_a), computer.compute(img_b))\n",
    "    return d"
   ]
  },
  {
   "cell_type": "code",
   "execution_count": 3,
   "metadata": {},
   "outputs": [
    {
     "data": {
      "text/plain": [
       "0.021378592"
      ]
     },
     "execution_count": 3,
     "metadata": {},
     "output_type": "execute_result"
    }
   ],
   "source": [
    "edge_his_sim(\"/home/topica/Desktop/anh_test4.jpg\", \"/home/topica/Desktop/anh_test3.png\")"
   ]
  },
  {
   "cell_type": "code",
   "execution_count": null,
   "metadata": {},
   "outputs": [],
   "source": []
  }
 ],
 "metadata": {
  "kernelspec": {
   "display_name": "Python 3",
   "language": "python",
   "name": "python3"
  },
  "language_info": {
   "codemirror_mode": {
    "name": "ipython",
    "version": 3
   },
   "file_extension": ".py",
   "mimetype": "text/x-python",
   "name": "python",
   "nbconvert_exporter": "python",
   "pygments_lexer": "ipython3",
   "version": "3.6.7"
  }
 },
 "nbformat": 4,
 "nbformat_minor": 2
}
