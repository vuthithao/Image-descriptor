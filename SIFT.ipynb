{
 "cells": [
  {
   "cell_type": "code",
   "execution_count": 2,
   "metadata": {},
   "outputs": [],
   "source": [
    "import cv2\n",
    "import sys\n",
    "import os.path\n",
    "import numpy as np\n",
    "\n",
    "def drawMatches(img1, kp1, img2, kp2, matches):\n",
    "\n",
    "    rows1 = img1.shape[0]\n",
    "    cols1 = img1.shape[1]\n",
    "    rows2 = img2.shape[0]\n",
    "    cols2 = img2.shape[1]\n",
    "\n",
    "    out = np.zeros((max([rows1,rows2]),cols1+cols2,3), dtype='uint8')\n",
    "    out[:rows1,:cols1] = np.dstack([img1])\n",
    "    out[:rows2,cols1:] = np.dstack([img2])\n",
    "    for mat in matches:\n",
    "        img1_idx = mat.queryIdx\n",
    "        img2_idx = mat.trainIdx\n",
    "        (x1,y1) = kp1[img1_idx].pt\n",
    "        (x2,y2) = kp2[img2_idx].pt\n",
    "\n",
    "        cv2.circle(out, (int(x1),int(y1)), 4, (255, 0, 0, 1), 1)   \n",
    "        cv2.circle(out, (int(x2)+cols1,int(y2)), 4, (255, 0, 0, 1), 1)\n",
    "        cv2.line(out, (int(x1),int(y1)), (int(x2)+cols1,int(y2)), (255, 0, 0, 1), 1)\n",
    "\n",
    "    return out\n",
    "\n",
    "def compare(filename1, filename2):\n",
    "    img1 = cv2.imread(filename1)          # queryImage\n",
    "    img2 = cv2.imread(filename2)          # trainImage\n",
    "\n",
    "    # Initiate SIFT detector\n",
    "    sift = cv2.xfeatures2d.SIFT_create()\n",
    "\n",
    "    # find the keypoints and descriptors with SIFT\n",
    "    kp1, des1 = sift.detectAndCompute(img1,None)\n",
    "    kp2, des2 = sift.detectAndCompute(img2,None)\n",
    "\n",
    "    # BFMatcher with default params\n",
    "    bf = cv2.BFMatcher()\n",
    "    matches = bf.match(des1,des2)\n",
    "\n",
    "    matches = sorted(matches, key=lambda val: val.distance)\n",
    "\n",
    "    img3 = drawMatches(img1,kp1,img2,kp2,matches[:25])\n",
    "\n",
    "    # Show the image\n",
    "    cv2.imshow('Matched Features', img3)\n",
    "    cv2.waitKey(0)\n",
    "    cv2.destroyWindow('Matched Features')\n",
    "    \n",
    "        \n",
    "compare('/home/topica/Desktop/anh_test1.png','/home/topica/Desktop/anh_test4.jpg')"
   ]
  },
  {
   "cell_type": "code",
   "execution_count": null,
   "metadata": {},
   "outputs": [],
   "source": []
  }
 ],
 "metadata": {
  "kernelspec": {
   "display_name": "Python 3",
   "language": "python",
   "name": "python3"
  },
  "language_info": {
   "codemirror_mode": {
    "name": "ipython",
    "version": 3
   },
   "file_extension": ".py",
   "mimetype": "text/x-python",
   "name": "python",
   "nbconvert_exporter": "python",
   "pygments_lexer": "ipython3",
   "version": "3.6.7"
  }
 },
 "nbformat": 4,
 "nbformat_minor": 2
}
