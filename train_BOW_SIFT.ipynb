{
 "cells": [
  {
   "cell_type": "code",
   "execution_count": 1,
   "metadata": {},
   "outputs": [],
   "source": [
    "import cv2\n",
    "import os\n",
    "import numpy as np\n",
    "from scipy.spatial import distance\n",
    "import json\n",
    "\n",
    "sift = cv2.xfeatures2d.SIFT_create(100, contrastThreshold=0.005, edgeThreshold=4, sigma=1.4)\n",
    "\n",
    "dictionarySize = 10000\n",
    "\n",
    "BOW = cv2.BOWKMeansTrainer(dictionarySize)\n",
    "\n",
    "imagepath = 'Path_to_data'\n",
    "list_image =  os.listdir(imagepath)\n",
    "\n",
    "for p in list_image:\n",
    "    image = os.path.join(imagepath, p)\n",
    "    try:\n",
    "        gray = cv2.imread(image,0)\n",
    "        kp, dsc= sift.detectAndCompute(gray, None)\n",
    "        BOW.add(dsc)\n",
    "    except:\n",
    "        continue\n",
    "\n",
    "#dictionary created\n",
    "dictionary = BOW.cluster()\n",
    "np.save('BOW_dict_toan_all_bw.npy', dictionary)"
   ]
  }
 ],
 "metadata": {
  "kernelspec": {
   "display_name": "Python 3",
   "language": "python",
   "name": "python3"
  },
  "language_info": {
   "codemirror_mode": {
    "name": "ipython",
    "version": 3
   },
   "file_extension": ".py",
   "mimetype": "text/x-python",
   "name": "python",
   "nbconvert_exporter": "python",
   "pygments_lexer": "ipython3",
   "version": "3.6.7"
  }
 },
 "nbformat": 4,
 "nbformat_minor": 2
}
